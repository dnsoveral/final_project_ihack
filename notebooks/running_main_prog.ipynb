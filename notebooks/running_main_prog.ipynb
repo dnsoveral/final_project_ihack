{
 "cells": [
  {
   "cell_type": "code",
   "execution_count": null,
   "id": "d2f8d09c-c210-4338-b3f7-585f7e017b4b",
   "metadata": {},
   "outputs": [],
   "source": [
    "import main_program"
   ]
  },
  {
   "cell_type": "code",
   "execution_count": null,
   "id": "a69ff220-a4b4-409d-941b-6e914c434635",
   "metadata": {},
   "outputs": [],
   "source": [
    "main_program.main_program()"
   ]
  },
  {
   "cell_type": "code",
   "execution_count": null,
   "id": "66ae5869-5de5-4426-9375-76c1665ecb20",
   "metadata": {},
   "outputs": [],
   "source": []
  },
  {
   "cell_type": "code",
   "execution_count": null,
   "id": "8b3a65e6-61e4-4764-821e-e45497f49dc4",
   "metadata": {},
   "outputs": [],
   "source": []
  }
 ],
 "metadata": {
  "kernelspec": {
   "display_name": "finalproj",
   "language": "python",
   "name": "finalproj"
  },
  "language_info": {
   "codemirror_mode": {
    "name": "ipython",
    "version": 3
   },
   "file_extension": ".py",
   "mimetype": "text/x-python",
   "name": "python",
   "nbconvert_exporter": "python",
   "pygments_lexer": "ipython3",
   "version": "3.11.5"
  }
 },
 "nbformat": 4,
 "nbformat_minor": 5
}
