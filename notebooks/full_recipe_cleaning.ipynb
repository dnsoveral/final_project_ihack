{
 "cells": [
  {
   "cell_type": "markdown",
   "id": "2b5893b5-efa7-4529-a826-2ceaeead4545",
   "metadata": {
    "tags": []
   },
   "source": [
    "![logo_ironhack_blue 7](https://user-images.githubusercontent.com/23629340/40541063-a07a0a8a-601a-11e8-91b5-2f13e4e6b441.png)"
   ]
  },
  {
   "cell_type": "markdown",
   "id": "bef8161b-9a58-4140-9f6e-3b8179a3f2ed",
   "metadata": {},
   "source": [
    "# Importing Libraries"
   ]
  },
  {
   "cell_type": "code",
   "execution_count": null,
   "id": "f6155656-eda6-4940-b752-3b2d31e58614",
   "metadata": {},
   "outputs": [],
   "source": [
    "import pandas as pd\n",
    "import numpy as np"
   ]
  },
  {
   "cell_type": "markdown",
   "id": "98b46fc7-d829-4bbe-910b-025abf8cd6f7",
   "metadata": {},
   "source": [
    "# Loading CSV File for CLeaning"
   ]
  },
  {
   "cell_type": "code",
   "execution_count": null,
   "id": "c6db9c39-10e1-4861-a16f-baa20e4cee3d",
   "metadata": {},
   "outputs": [],
   "source": [
    "recipes = pd.read_csv('../data/raw/recipes_clean.csv')"
   ]
  },
  {
   "cell_type": "code",
   "execution_count": null,
   "id": "932127ae-2a64-4d62-89f8-46a472563865",
   "metadata": {},
   "outputs": [],
   "source": [
    "recipes.head(5)"
   ]
  },
  {
   "cell_type": "markdown",
   "id": "d6f3ff9d-5741-45b8-9d65-d00112dcbf98",
   "metadata": {},
   "source": [
    "# Start Cleaning Columns"
   ]
  },
  {
   "cell_type": "code",
   "execution_count": null,
   "id": "588d8173-354b-4f8b-bbdc-09b37f6d89e9",
   "metadata": {},
   "outputs": [],
   "source": [
    "recipes.columns = recipes.columns.str.lower()"
   ]
  },
  {
   "cell_type": "code",
   "execution_count": null,
   "id": "4b78a292-341f-42a8-9ed6-1d721a4f5812",
   "metadata": {},
   "outputs": [],
   "source": [
    "recipes.columns"
   ]
  },
  {
   "cell_type": "code",
   "execution_count": null,
   "id": "46ae6e4f-17e5-4724-8359-01fcafe305a3",
   "metadata": {},
   "outputs": [],
   "source": [
    "recipes.columns = recipes.columns.str.replace(' ', '_')"
   ]
  },
  {
   "cell_type": "code",
   "execution_count": null,
   "id": "d367c273-5899-49f6-bdc6-cc7de92ca31a",
   "metadata": {},
   "outputs": [],
   "source": [
    "recipes.columns"
   ]
  },
  {
   "cell_type": "code",
   "execution_count": null,
   "id": "6346dd1d-6732-4cf6-a48b-fdfa19d98ddd",
   "metadata": {},
   "outputs": [],
   "source": [
    "recipes['meal_class'].unique()"
   ]
  },
  {
   "cell_type": "code",
   "execution_count": null,
   "id": "bf7bdb6f-8d08-4b24-8f01-9fa603d4d1de",
   "metadata": {},
   "outputs": [],
   "source": [
    "mapping_rules = {'Prato-principal': ' ', 'Peixes, Prato-principal':'Peixes',\n",
    "       'Saladas': 'Saladas', 'Doces e Sobremesas': 'Doces e Sobremesas', 'Refeição Principal': ' ', 'Sopas':'Sopas',\n",
    "       'Bebidas': 'Bebidas', 'Entradas e Petiscos':'Entradas e Petiscos', 'Carnes, Peixes': ' ',\n",
    "       'Peixes, Saladas':'Peixes', 'alimentação saudável, receitas fáceis': ' ',\n",
    "       'receitas fáceis': ' ', 'receitas de peixe': 'Peixes', 'receita de frango': 'Carnes',\n",
    "       'Carnes, Prato-principal': 'Carnes', 'Carnes, Entradas e Petiscos': ' ',\n",
    "       'Entradas e Petiscos, Sopas': ' ', 'Entradas e Petiscos, Peixes': ' ',\n",
    "       'Acompanhamentos': 'Acompanhamentos', 'Doces e Sobremesas, Entradas e Petiscos': ' ',\n",
    "       'Entradas e Petiscos, Sopas, Vegetariano': ' ', 'alimentação saudável': ' ',\n",
    "       'Entradas e Petiscos, Vegetariano':'Entradas e Petiscos',\n",
    "       'Acompanhamentos, Entradas e Petiscos': 'Acompanhamentos',\n",
    "       'alimentação saudável, receita com abobora': ' ',\n",
    "       'Entradas e Petiscos, Prato-principal': ' ',\n",
    "       'Prato-principal, Vegetariano': 'Vegetariano', 'Saladas, Vegetariano': 'Vegetariano',\n",
    "       'Vegetariano':'Vegetariano', 'Entradas e Petiscos, Saladas': 'Entradas e Petiscos',\n",
    "       'Acompanhamentos, Doces e Sobremesas': ' ',\n",
    "       'Acompanhamentos, Vegetariano': 'Acompanhamentos', 'Bebidas, Doces e Sobremesas': 'Bebidas, Doces e Sobremesas',\n",
    "       'Prato-principal, Saladas': 'Saladas', 'Acompanhamentos, Carnes': ' ',\n",
    "       'Sopas, Vegetariano': 'Sopas', 'Doces e Sobremesas, Peixes, Sopas': ' ',\n",
    "       'Carnes, Doces e Sobremesas': ' ', 'Doces e Sobremesas, Peixes': ' ',\n",
    "       'Carnes, Saladas': 'Carnes', 'Acompanhamentos, Entradas e Petiscos, Saladas': ' ',\n",
    "       'Acompanhamentos, Saladas': 'Acompanhamentos',\n",
    "       'Carnes, Doces e Sobremesas, Entradas e Petiscos': ' ',\n",
    "       'Acompanhamentos, Doces e Sobremesas, Entradas e Petiscos': ' ',\n",
    "       'Acompanhamentos, Peixes': ' ',\n",
    "       'Doces e Sobremesas, Entradas e Petiscos, Peixes': ' ',\n",
    "       'Doces e Sobremesas, Prato-principal': ' '}"
   ]
  },
  {
   "cell_type": "code",
   "execution_count": null,
   "id": "cfa7c45d-1a39-4135-87ff-6fe772bf06c4",
   "metadata": {},
   "outputs": [],
   "source": [
    "recipes['meal_class'] = recipes['meal_class'].map(mapping_rules)"
   ]
  },
  {
   "cell_type": "code",
   "execution_count": null,
   "id": "e837a450-a379-43b7-835e-37f389e38f1d",
   "metadata": {},
   "outputs": [],
   "source": [
    "recipes['meal_class'].unique()"
   ]
  },
  {
   "cell_type": "code",
   "execution_count": null,
   "id": "7e421c45-4851-4865-a3ed-80a4dcffd437",
   "metadata": {},
   "outputs": [],
   "source": [
    "recipes['meal_class'] = recipes['meal_class'].astype(str)\n",
    "\n",
    "recipes = recipes[~recipes['meal_class'].str.contains('Bebidas')]\n",
    "\n",
    "recipes.reset_index(drop=True, inplace=True)"
   ]
  },
  {
   "cell_type": "code",
   "execution_count": null,
   "id": "a63e6012-be4f-4e0d-9e4c-03076de6dc46",
   "metadata": {},
   "outputs": [],
   "source": [
    "recipes['meal_class'].unique()"
   ]
  },
  {
   "cell_type": "code",
   "execution_count": null,
   "id": "61f3cb21-84be-40ab-a522-254ffd3e19c1",
   "metadata": {},
   "outputs": [],
   "source": [
    "unique_meal_counts = recipes['meal_class'].value_counts()\n",
    "unique_meal_counts"
   ]
  },
  {
   "cell_type": "code",
   "execution_count": null,
   "id": "b1da19cb-fbb6-4502-913a-64cb31938dce",
   "metadata": {},
   "outputs": [],
   "source": [
    "recipes.info()"
   ]
  },
  {
   "cell_type": "code",
   "execution_count": null,
   "id": "351c7b35-8445-49fa-943f-53ee4ddf6c95",
   "metadata": {},
   "outputs": [],
   "source": [
    "recipes['difficulty'].unique()"
   ]
  },
  {
   "cell_type": "code",
   "execution_count": null,
   "id": "4de8ad9c-b116-48d8-ba98-96704236baa5",
   "metadata": {},
   "outputs": [],
   "source": [
    "unique_difficulty_counts = recipes['difficulty'].value_counts()\n",
    "unique_difficulty_counts"
   ]
  },
  {
   "cell_type": "code",
   "execution_count": null,
   "id": "cf687f3c-4d25-4c14-8774-86e8e3088b00",
   "metadata": {},
   "outputs": [],
   "source": [
    "recipes['cost'].unique()"
   ]
  },
  {
   "cell_type": "code",
   "execution_count": null,
   "id": "5ff5bc64-c937-4124-80b7-e9edc1260c94",
   "metadata": {},
   "outputs": [],
   "source": [
    "mapping = {'Económico': 'Económico', 'Médio': 'Médio', 'Dispendioso': 'Dispendioso', 'Económico e Médio': 'Económico'}"
   ]
  },
  {
   "cell_type": "code",
   "execution_count": null,
   "id": "2c4c59e6-3a6d-40dd-a531-9a45b4a2a1bf",
   "metadata": {},
   "outputs": [],
   "source": [
    "recipes['cost'] = recipes['cost'].map(mapping)"
   ]
  },
  {
   "cell_type": "code",
   "execution_count": null,
   "id": "5852c912-8700-4374-947a-48754bd76313",
   "metadata": {},
   "outputs": [],
   "source": [
    "recipes['cost'].unique()"
   ]
  },
  {
   "cell_type": "code",
   "execution_count": null,
   "id": "b0c0bfe8-1c5c-4206-8da9-8858ff0fecfb",
   "metadata": {},
   "outputs": [],
   "source": [
    "unique_costs_counts = recipes['cost'].value_counts()\n",
    "unique_costs_counts"
   ]
  },
  {
   "cell_type": "code",
   "execution_count": null,
   "id": "4b47b5b9-292c-445c-a62d-eaf9cedc40ae",
   "metadata": {},
   "outputs": [],
   "source": [
    "recipes['rating'].unique()"
   ]
  },
  {
   "cell_type": "code",
   "execution_count": null,
   "id": "f7cf057a-069d-4ba5-8f06-a902a0f95f3c",
   "metadata": {},
   "outputs": [],
   "source": [
    "def clean_column(df, column_name, string_to_remove):\n",
    "    \"\"\"\n",
    "    Clean a specific column in a DataFrame by removing a specified string and rounding to integers.\n",
    "\n",
    "    Parameters:\n",
    "    df (pd.DataFrame): The input DataFrame.\n",
    "    column_name (str): The name of the column to be cleaned.\n",
    "    string_to_remove (str): The string to be removed from the column values.\n",
    "\n",
    "    Returns:\n",
    "    pd.DataFrame: A new DataFrame with the specified column cleaned, rounded to integers, and non-finite values filled with 0.\n",
    "    \"\"\"\n",
    "    # Check if the column contains non-string values and convert them to strings\n",
    "    df[column_name] = df[column_name].astype(str)\n",
    "    \n",
    "    # Remove the specified string from the specified column\n",
    "    df[column_name] = df[column_name].str.replace(string_to_remove, '')\n",
    "    \n",
    "    # Convert to float and handle empty strings by replacing them with NaN\n",
    "    df[column_name] = pd.to_numeric(df[column_name], errors='coerce')\n",
    "    \n",
    "    # Round the values to the nearest integer and fill non-finite values (NaN or inf) with 0\n",
    "    df[column_name] = df[column_name].round().fillna(0).astype(int)\n",
    "    \n",
    "    return df"
   ]
  },
  {
   "cell_type": "code",
   "execution_count": null,
   "id": "ba2c1ff3-96a7-417b-a7ec-6ffb157143d8",
   "metadata": {},
   "outputs": [],
   "source": [
    "column_name = 'rating'\n",
    "string_to_remove = ' out of 5'\n",
    "recipes = clean_column(recipes, column_name, string_to_remove)"
   ]
  },
  {
   "cell_type": "code",
   "execution_count": null,
   "id": "cb3be4d0-bb31-4687-8082-ebbfa57b1beb",
   "metadata": {},
   "outputs": [],
   "source": [
    "recipes['rating'].unique()"
   ]
  },
  {
   "cell_type": "code",
   "execution_count": null,
   "id": "c278536e-dead-4663-b299-a6e78586b4ca",
   "metadata": {},
   "outputs": [],
   "source": [
    "unique_rating_counts = recipes['rating'].value_counts()\n",
    "unique_rating_counts"
   ]
  },
  {
   "cell_type": "code",
   "execution_count": null,
   "id": "8d079bd9-10b7-432b-a87a-297f6f03443e",
   "metadata": {},
   "outputs": [],
   "source": [
    "def convert_time_columns_to_minutes(df, time_columns):\n",
    "    \"\"\"\n",
    "    Convert time columns in a DataFrame to minutes.\n",
    "\n",
    "    Parameters:\n",
    "    df (pd.DataFrame): The input DataFrame.\n",
    "    time_columns (list): A list of column names containing time values in 'Xh Ymin' format.\n",
    "\n",
    "    Returns:\n",
    "    pd.DataFrame: A modified DataFrame with the time columns converted to minutes.\n",
    "    \"\"\"\n",
    "    \n",
    "    # Copy the input DataFrame to avoid modifying the original\n",
    "    modified_df = df.copy()\n",
    "    \n",
    "    for col in time_columns:\n",
    "        # Split the time string into hours and minutes\n",
    "        time_parts = modified_df[col].str.split('h ')\n",
    "        \n",
    "        # Convert hours and minutes to integers\n",
    "        hours = time_parts.str[0].astype(int)\n",
    "        minutes = time_parts.str[1].str.replace('min', '').astype(int)\n",
    "        \n",
    "        # Calculate the total time in minutes and replace the column\n",
    "        total_minutes = hours * 60 + minutes\n",
    "        modified_df[col] = total_minutes\n",
    "    \n",
    "    return modified_df"
   ]
  },
  {
   "cell_type": "code",
   "execution_count": null,
   "id": "b0403879-1193-429f-a99c-f42e469ceb9f",
   "metadata": {},
   "outputs": [],
   "source": [
    "time_columns = ['prep_time', 'total_time']\n",
    "recipes = convert_time_columns_to_minutes(recipes, time_columns)"
   ]
  },
  {
   "cell_type": "code",
   "execution_count": null,
   "id": "780953e2-b33c-40ff-8768-153eab5fe5cb",
   "metadata": {},
   "outputs": [],
   "source": [
    "recipes['prep_time'].unique()"
   ]
  },
  {
   "cell_type": "code",
   "execution_count": null,
   "id": "125d98f9-73eb-46d7-a105-2faf9dc6b8e1",
   "metadata": {},
   "outputs": [],
   "source": [
    "recipes['total_time'].unique()"
   ]
  },
  {
   "cell_type": "code",
   "execution_count": null,
   "id": "52f4f712-4797-4bbb-a551-710e95db0ccc",
   "metadata": {},
   "outputs": [],
   "source": [
    "unique_prep_counts = recipes['prep_time'].value_counts()\n",
    "unique_prep_counts"
   ]
  },
  {
   "cell_type": "code",
   "execution_count": null,
   "id": "ecceda69-d887-4b22-81c9-f9bef4fe36f8",
   "metadata": {},
   "outputs": [],
   "source": [
    "unique_total_time_counts = recipes['total_time'].value_counts()\n",
    "unique_total_time_counts"
   ]
  },
  {
   "cell_type": "code",
   "execution_count": null,
   "id": "dea060dd-86ae-47ce-956a-77385a5a6eec",
   "metadata": {},
   "outputs": [],
   "source": [
    "rows_with_smaller_time = recipes[recipes['total_time'] < recipes['prep_time']]\n",
    "\n",
    "if not rows_with_smaller_time.empty:\n",
    "    print(\"Rows with 'total_time' smaller than 'prep_time':\")\n",
    "    for index, row in rows_with_smaller_time.iterrows():\n",
    "        print(f\"Title: {row['title']}, Total Time: {row['total_time']}, Prep Time: {row['prep_time']}\")\n",
    "else:\n",
    "    print(\"All 'total_time' values are greater than or equal to 'prep_time'.\")"
   ]
  },
  {
   "cell_type": "code",
   "execution_count": null,
   "id": "22211641-7fb4-4a75-9e16-47a4ade1ce71",
   "metadata": {},
   "outputs": [],
   "source": [
    "def keep_larger_time_column(df):\n",
    "    \"\"\"\n",
    "    Keep only one column between 'prep_time' and 'total_time' based on the larger value.\n",
    "\n",
    "    Parameters:\n",
    "    df (pd.DataFrame): The input DataFrame with 'prep_time' and 'total_time' columns.\n",
    "\n",
    "    Returns:\n",
    "    pd.DataFrame: A new DataFrame with one column 'time' containing the larger time values.\n",
    "    \"\"\"\n",
    "    # Create a new 'time' column containing the larger values between 'prep_time' and 'total_time'\n",
    "    df['time'] = df[['prep_time', 'total_time']].max(axis=1)\n",
    "\n",
    "    # Drop the original 'prep_time' and 'total_time' columns\n",
    "    df.drop(['prep_time', 'total_time'], axis=1, inplace=True)\n",
    "\n",
    "    return df"
   ]
  },
  {
   "cell_type": "code",
   "execution_count": null,
   "id": "636f1c36-c7f6-4ef2-841b-89c78c6917e9",
   "metadata": {},
   "outputs": [],
   "source": [
    "recipes = keep_larger_time_column(recipes)"
   ]
  },
  {
   "cell_type": "code",
   "execution_count": null,
   "id": "b740629c-9abd-4ca3-b977-58edf9e00556",
   "metadata": {},
   "outputs": [],
   "source": [
    "recipes"
   ]
  },
  {
   "cell_type": "code",
   "execution_count": null,
   "id": "3cdffc88-aff8-41e4-8db0-1a0613594386",
   "metadata": {},
   "outputs": [],
   "source": [
    "position = 6\n",
    "\n",
    "columns = list(recipes.columns)\n",
    "\n",
    "columns.remove('time')\n",
    "\n",
    "columns.insert(position, 'time')\n",
    "\n",
    "recipes = recipes[columns]\n",
    "\n",
    "recipes"
   ]
  },
  {
   "cell_type": "code",
   "execution_count": null,
   "id": "640f46cf-8c57-46e5-89b7-90c8a710fcda",
   "metadata": {},
   "outputs": [],
   "source": [
    "recipes.rename(columns={'time': 'time(min)'}, inplace=True)"
   ]
  },
  {
   "cell_type": "code",
   "execution_count": null,
   "id": "c76bda9e-5bea-4881-8c9b-751b10b44b94",
   "metadata": {},
   "outputs": [],
   "source": [
    "recipes['time(min)'].unique()"
   ]
  },
  {
   "cell_type": "code",
   "execution_count": null,
   "id": "ce172c10-eb39-44af-95fd-a2cc90df3952",
   "metadata": {},
   "outputs": [],
   "source": [
    "unique_time_counts = recipes['time(min)'].value_counts()\n",
    "unique_time_counts"
   ]
  },
  {
   "cell_type": "code",
   "execution_count": null,
   "id": "5822837e-c257-44e9-b98b-c11818743502",
   "metadata": {},
   "outputs": [],
   "source": [
    "recipes['ingredient_name'].unique()"
   ]
  },
  {
   "cell_type": "code",
   "execution_count": null,
   "id": "6648bf2d-f970-4df2-bbf4-013a6709af50",
   "metadata": {},
   "outputs": [],
   "source": [
    "recipes['ingredient_unit'].unique()"
   ]
  },
  {
   "cell_type": "markdown",
   "id": "ce624b4c-850b-4a84-9bb2-3475c177234a",
   "metadata": {},
   "source": [
    "# Saving CSV File with Clean Dataframe"
   ]
  },
  {
   "cell_type": "code",
   "execution_count": null,
   "id": "7cee0e71-3a92-4920-bd1e-da39dfbc3d6f",
   "metadata": {},
   "outputs": [],
   "source": [
    "recipes"
   ]
  },
  {
   "cell_type": "code",
   "execution_count": null,
   "id": "753f97aa-9cae-4874-a855-1508f97d1950",
   "metadata": {},
   "outputs": [],
   "source": [
    "recipes.to_csv('../data/raw/recipes2.csv', index = False)"
   ]
  },
  {
   "cell_type": "markdown",
   "id": "abb619af-d007-49b5-925f-21e24c44b617",
   "metadata": {},
   "source": [
    "# Creating new Dataframe with only one line per Recipe"
   ]
  },
  {
   "cell_type": "code",
   "execution_count": null,
   "id": "fe2c5dd1-85ae-432e-8738-89925b461d92",
   "metadata": {},
   "outputs": [],
   "source": [
    "recipes_copy = recipes.copy()"
   ]
  },
  {
   "cell_type": "code",
   "execution_count": null,
   "id": "42f8f132-abc5-43c1-9181-8260b9b83008",
   "metadata": {},
   "outputs": [],
   "source": [
    "recipes_copy['ingredients_combined'] = (\n",
    "    recipes_copy['ingredient_amount'].astype(str) +\n",
    "    ' ' +\n",
    "    recipes_copy['ingredient_unit'] +\n",
    "    ' ' +\n",
    "    recipes_copy['ingredient_name']\n",
    ")\n",
    "recipes_copy['ingredients_combined'] = recipes_copy['ingredients_combined'].str.replace('-', '')\n",
    "# Group by 'title',\n",
    "recipes_copy = recipes_copy.groupby(['title', 'servings', 'preparations', 'meal_class', 'difficulty', 'cost', 'rating', \n",
    "                                    'time(min)', 'recipe_link', 'image_url'])['ingredients_combined'].apply(list).reset_index()"
   ]
  },
  {
   "cell_type": "code",
   "execution_count": null,
   "id": "9c4f2a14-cff2-4a53-b61b-134caa27de19",
   "metadata": {},
   "outputs": [],
   "source": [
    "recipes_copy"
   ]
  },
  {
   "cell_type": "code",
   "execution_count": null,
   "id": "fe3ad49c-770b-4dcd-8f66-a97ae30533c3",
   "metadata": {},
   "outputs": [],
   "source": [
    "recipes_copy = recipes_copy[['meal_class', 'title', 'rating', 'cost', 'difficulty', 'servings','ingredients_combined', 'preparations', 'time(min)', 'recipe_link', 'image_url']]"
   ]
  },
  {
   "cell_type": "code",
   "execution_count": null,
   "id": "ad263e3f-473c-413a-8c73-06b8cea1f3a2",
   "metadata": {},
   "outputs": [],
   "source": [
    "recipes_copy"
   ]
  },
  {
   "cell_type": "code",
   "execution_count": null,
   "id": "f32b9bab-2850-408d-9b6a-ddadf2458926",
   "metadata": {},
   "outputs": [],
   "source": [
    "recipes_copy.to_csv('../data/raw/recipes_one_line.csv', index = False)"
   ]
  }
 ],
 "metadata": {
  "kernelspec": {
   "display_name": "finalproj",
   "language": "python",
   "name": "finalproj"
  },
  "language_info": {
   "codemirror_mode": {
    "name": "ipython",
    "version": 3
   },
   "file_extension": ".py",
   "mimetype": "text/x-python",
   "name": "python",
   "nbconvert_exporter": "python",
   "pygments_lexer": "ipython3",
   "version": "3.11.5"
  }
 },
 "nbformat": 4,
 "nbformat_minor": 5
}
