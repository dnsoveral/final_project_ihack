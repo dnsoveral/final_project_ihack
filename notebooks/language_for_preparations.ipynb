{
 "cells": [
  {
   "cell_type": "markdown",
   "id": "50bdb104-34f1-4814-b9d2-21d0e61c7e13",
   "metadata": {
    "tags": []
   },
   "source": [
    "![logo_ironhack_blue 7](https://user-images.githubusercontent.com/23629340/40541063-a07a0a8a-601a-11e8-91b5-2f13e4e6b441.png)"
   ]
  },
  {
   "cell_type": "markdown",
   "id": "2ac78738-dfcc-4606-a2bc-4e3f5482ba87",
   "metadata": {},
   "source": [
    "# Importing Libraries"
   ]
  },
  {
   "cell_type": "code",
   "execution_count": null,
   "id": "1d7ef41d-947b-4b9f-a0ea-8b81daf5641b",
   "metadata": {},
   "outputs": [],
   "source": [
    "import unicodedata\n",
    "from nltk.tokenize import word_tokenize\n",
    "from nltk.corpus import stopwords\n",
    "from nltk.corpus import words\n",
    "from nltk.stem import PorterStemmer\n",
    "from IPython.display import clear_output\n",
    "import pandas as pd"
   ]
  },
  {
   "cell_type": "markdown",
   "id": "e8c3e9d5-d09d-4e6a-ab40-070d2e789290",
   "metadata": {},
   "source": [
    "# Loading File"
   ]
  },
  {
   "cell_type": "code",
   "execution_count": null,
   "id": "cf75f124-0661-4925-9ec7-89596bc32b16",
   "metadata": {},
   "outputs": [],
   "source": [
    "recipes = pd.read_csv('../data/raw/recipes_one_clean.csv')"
   ]
  },
  {
   "cell_type": "code",
   "execution_count": null,
   "id": "9cfa9a4e-2227-4b0b-ad12-8aff154eb8da",
   "metadata": {},
   "outputs": [],
   "source": [
    "recipes"
   ]
  },
  {
   "cell_type": "code",
   "execution_count": null,
   "id": "bb1c5aed-5a7e-41d8-9c7d-c1fb8f74d903",
   "metadata": {},
   "outputs": [],
   "source": [
    "recipes['preparations']"
   ]
  },
  {
   "cell_type": "code",
   "execution_count": null,
   "id": "1ac6d506-4e7e-492e-b00d-b3d43a82441c",
   "metadata": {},
   "outputs": [],
   "source": [
    "limit = 10 \n",
    "\n",
    "for index in range(min(limit, len(recipes))):\n",
    "    label = recipes.at[index, 'preparations']\n",
    "    print(f\"Row {index} Label:\")\n",
    "    print(label)\n",
    "    print()"
   ]
  },
  {
   "cell_type": "markdown",
   "id": "1bb53d6a-725e-4dd6-b466-5f1af4cb794c",
   "metadata": {},
   "source": [
    "# Clean Preparations"
   ]
  },
  {
   "cell_type": "code",
   "execution_count": null,
   "id": "ed09bd36-8c73-4dbe-a30b-6ff93adefa5f",
   "metadata": {},
   "outputs": [],
   "source": [
    "def clean_recipes_column(df, column_name, num_rows=None):\n",
    "    \"\"\"\n",
    "    Clean and preprocess a column of text data in a DataFrame, including pluralization based on numbers.\n",
    "\n",
    "    Parameters:\n",
    "        df (pd.DataFrame): The DataFrame containing the text column to be cleaned.\n",
    "        column_name (str): The name of the column to be cleaned.\n",
    "        num_rows (int, optional): The number of rows to process. If None, processes all rows.\n",
    "\n",
    "    Returns:\n",
    "        None: The function modifies the DataFrame in place by updating the specified column.\n",
    "    \"\"\"\n",
    "    stop_words = set(stopwords.words('portuguese'))\n",
    "    p = PorterStemmer()\n",
    "    \n",
    "    if num_rows is None:\n",
    "        num_rows = df.shape[0]\n",
    "    else:\n",
    "        num_rows = min(num_rows, df.shape[0])  \n",
    "    \n",
    "    for i in range(num_rows):\n",
    "        clear_output(wait=True)\n",
    "        print(f\"Cleaning recipe {i+1}/{num_rows} ({((i+1)/num_rows)*100:.2f}%)\")\n",
    "\n",
    "        recipe = df.at[i, column_name]\n",
    "        \n",
    "\n",
    "        tokens = word_tokenize(recipe, language='portuguese')\n",
    "\n",
    "\n",
    "        recipe = recipe.replace('q . b .', 'q.b.')\n",
    "        recipe = recipe.replace('q. b.', 'q.b.')\n",
    "        recipe = recipe.replace('q.b .', 'q.b.')\n",
    "        recipe = recipe.replace('q . b.', 'q.b.')\n",
    "        recipe = recipe.replace('q.b .', 'q.b.')\n",
    "        \n",
    "\n",
    "        cleaned_tokens = []\n",
    "        for token in tokens:\n",
    "            # Check if the token is a valid word in the Portuguese language\n",
    "            if token.lower() in words.words():\n",
    "                cleaned_tokens.append(token)\n",
    "            # Check if the token is not a standalone zero\n",
    "            elif token != '0':\n",
    "                cleaned_tokens.append(token)\n",
    "        \n",
    "        # Join the cleaned tokens back into a string\n",
    "        cleaned_recipe = ' '.join(cleaned_tokens)\n",
    "        \n",
    "        # Handle pluralization based on numbers\n",
    "        words_in_recipe = cleaned_recipe.split()\n",
    "        for j in range(len(words_in_recipe)):\n",
    "            # Check if the word is a number\n",
    "            if words_in_recipe[j].isdigit():\n",
    "                # Check if the next word is pluralizable\n",
    "                if j + 1 < len(words_in_recipe):\n",
    "                    next_word = words_in_recipe[j+1].lower()\n",
    "                    # Check if the next word is pluralized within parentheses\n",
    "                    if next_word.startswith('(') and next_word.endswith(')'):\n",
    "                        # Remove the parentheses and handle pluralization\n",
    "                        singular = p.stem(next_word[1:-1])\n",
    "                        if singular:\n",
    "                            words_in_recipe[j+1] = singular\n",
    "                    else:\n",
    "                        # Check if the next word is pluralizable\n",
    "                        singular = p.stem(next_word)\n",
    "                        if singular:\n",
    "                            words_in_recipe[j+1] = singular\n",
    "        \n",
    "        # Reconstruct the cleaned recipe\n",
    "        cleaned_recipe = ' '.join(words_in_recipe)\n",
    "        \n",
    "        # Handle parentheses and \"de\" insertion\n",
    "        cleaned_recipe = cleaned_recipe.replace('(colher)', 'colher')\n",
    "        cleaned_recipe = cleaned_recipe.replace('(colheres)', 'colheres')\n",
    "        cleaned_recipe = cleaned_recipe.replace('colher cafe', 'colher de cafe')\n",
    "        cleaned_recipe = cleaned_recipe.replace('colher cha', 'colher de cha')\n",
    "        cleaned_recipe = cleaned_recipe.replace('colher sobremesa', 'colher de sobremesa')\n",
    "        cleaned_recipe = cleaned_recipe.replace('colher sopa', 'colher de sopa')\n",
    "        \n",
    "        # Update the DataFrame with the cleaned recipe\n",
    "        df.at[i, column_name] = cleaned_recipe\n",
    "    \n",
    "    print(\"Cleaning complete!\")"
   ]
  },
  {
   "cell_type": "code",
   "execution_count": null,
   "id": "6d36fe59-75a3-481c-867d-886003bbf541",
   "metadata": {},
   "outputs": [],
   "source": [
    "clean_recipes_column(recipes, 'preparations', num_rows = 10)"
   ]
  },
  {
   "cell_type": "code",
   "execution_count": null,
   "id": "fe3db754-9fcf-4b7c-b3fe-f00d0cef3348",
   "metadata": {},
   "outputs": [],
   "source": [
    "limit = 10\n",
    "\n",
    "for index in range(min(limit, len(recipes))):\n",
    "    label = recipes.at[index, 'preparations']\n",
    "    print(f\"Row {index} Label:\")\n",
    "    print(label)\n",
    "    print()"
   ]
  },
  {
   "cell_type": "code",
   "execution_count": null,
   "id": "c37c80c1-55f9-4e36-99af-b70c7a8e9ff8",
   "metadata": {},
   "outputs": [],
   "source": []
  }
 ],
 "metadata": {
  "kernelspec": {
   "display_name": "finalproj",
   "language": "python",
   "name": "finalproj"
  },
  "language_info": {
   "codemirror_mode": {
    "name": "ipython",
    "version": 3
   },
   "file_extension": ".py",
   "mimetype": "text/x-python",
   "name": "python",
   "nbconvert_exporter": "python",
   "pygments_lexer": "ipython3",
   "version": "3.11.5"
  }
 },
 "nbformat": 4,
 "nbformat_minor": 5
}
