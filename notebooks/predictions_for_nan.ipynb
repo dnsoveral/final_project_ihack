{
 "cells": [
  {
   "cell_type": "markdown",
   "id": "5aa2ff11-a07c-4cef-84a6-eaa0495dfebd",
   "metadata": {
    "tags": []
   },
   "source": [
    "![logo_ironhack_blue 7](https://user-images.githubusercontent.com/23629340/40541063-a07a0a8a-601a-11e8-91b5-2f13e4e6b441.png)"
   ]
  },
  {
   "cell_type": "markdown",
   "id": "7365cb56-b464-4bec-ac49-9407dc126d33",
   "metadata": {},
   "source": [
    "# Importing Libraries"
   ]
  },
  {
   "cell_type": "code",
   "execution_count": null,
   "id": "7002aafb-60cf-4e93-8876-80d49ada061c",
   "metadata": {},
   "outputs": [],
   "source": [
    "import pandas as pd\n",
    "import numpy as np\n",
    "import nltk\n",
    "from nltk.corpus import stopwords\n",
    "from sklearn.feature_extraction.text import CountVectorizer\n",
    "from sklearn.naive_bayes import MultinomialNB\n",
    "from sklearn.preprocessing import LabelEncoder\n",
    "from sklearn.model_selection import train_test_split\n",
    "from sklearn.metrics import accuracy_score\n",
    "from sklearn.feature_extraction.text import TfidfVectorizer\n",
    "from sklearn.metrics.pairwise import cosine_similarity\n",
    "from sklearn.impute import SimpleImputer"
   ]
  },
  {
   "cell_type": "markdown",
   "id": "a7f86ea5-a576-46ba-9b36-6243785b7c55",
   "metadata": {},
   "source": [
    "# Loading CSV File"
   ]
  },
  {
   "cell_type": "code",
   "execution_count": null,
   "id": "2e105e95-34a0-4c34-a610-832d69fe6d0e",
   "metadata": {},
   "outputs": [],
   "source": [
    "recipes = pd.read_csv('../data/raw/recipes_one_line.csv')"
   ]
  },
  {
   "cell_type": "code",
   "execution_count": null,
   "id": "0457fd4e-3244-4b78-9b7b-f25c38b15b80",
   "metadata": {},
   "outputs": [],
   "source": [
    "recipes.head()"
   ]
  },
  {
   "cell_type": "code",
   "execution_count": null,
   "id": "2e935636-b6d5-420e-bce1-14debcabfbca",
   "metadata": {},
   "outputs": [],
   "source": [
    "recipes.info()"
   ]
  },
  {
   "cell_type": "markdown",
   "id": "280a52e7-b6ed-4476-89be-f62a6a347391",
   "metadata": {},
   "source": [
    "# Predicton of NaN Values in Meal Class"
   ]
  },
  {
   "cell_type": "code",
   "execution_count": null,
   "id": "0cfe9ff1-4829-4649-be9c-8529fbd71688",
   "metadata": {},
   "outputs": [],
   "source": [
    "# Replace empty strings with NaN values\n",
    "recipes['meal_class'] = recipes['meal_class'].replace(' ', np.nan)"
   ]
  },
  {
   "cell_type": "code",
   "execution_count": null,
   "id": "91778f0c-ea3f-43fa-8207-b1c5e7216e3c",
   "metadata": {},
   "outputs": [],
   "source": [
    "nan_count = recipes['meal_class'].isna().sum()\n",
    "nan_count"
   ]
  },
  {
   "cell_type": "code",
   "execution_count": null,
   "id": "d4f46341-640f-420b-ac6e-49a34a633c43",
   "metadata": {},
   "outputs": [],
   "source": [
    "class_count = recipes['meal_class'].value_counts()\n",
    "class_count"
   ]
  },
  {
   "cell_type": "code",
   "execution_count": null,
   "id": "a3d67e77-b661-451d-be46-76cf81e17b3d",
   "metadata": {},
   "outputs": [],
   "source": [
    "recipes.head(50)"
   ]
  },
  {
   "cell_type": "code",
   "execution_count": null,
   "id": "0cffd0b1-f571-44cd-8148-b861e6d30518",
   "metadata": {},
   "outputs": [],
   "source": [
    "class_count = recipes['meal_class'].value_counts()\n",
    "class_count"
   ]
  },
  {
   "cell_type": "code",
   "execution_count": null,
   "id": "95493467-5902-4c87-b23a-056de0053eae",
   "metadata": {},
   "outputs": [],
   "source": [
    "recipes['time(min)'] = recipes['time(min)'].astype(str)"
   ]
  },
  {
   "cell_type": "code",
   "execution_count": null,
   "id": "6f92c6b1-0387-4b0a-a38a-ff7bc454c33a",
   "metadata": {},
   "outputs": [],
   "source": [
    "# Combine 'ingredients_name' and 'preparations' columns into a single text column\n",
    "recipes['text_features'] = recipes['ingredients_combined'] + ' ' + recipes['preparations'] + ' ' + recipes['time(min)'] \n",
    "\n",
    "# Load Portuguese stopwords and convert to a list\n",
    "nltk.download('stopwords')\n",
    "stop_words = list(set(stopwords.words('portuguese')))\n",
    "\n",
    "# Prepare the data\n",
    "data = recipes.dropna(subset=['meal_class'])  # Remove rows with NaN in meal_class\n",
    "X = data['text_features']  # Use the combined text column as input\n",
    "y = data['meal_class']\n",
    "\n",
    "# Encode labels\n",
    "label_encoder = LabelEncoder()\n",
    "y = label_encoder.fit_transform(y)\n",
    "\n",
    "# Split data into train and test sets\n",
    "X_train, X_test, y_train, y_test = train_test_split(X, y, test_size=0.4, random_state=24)\n",
    "\n",
    "# Vectorize text data\n",
    "vectorizer = CountVectorizer(stop_words=stop_words)\n",
    "X_train_vec = vectorizer.fit_transform(X_train)\n",
    "X_test_vec = vectorizer.transform(X_test)\n",
    "\n",
    "# Train a text classification model\n",
    "classifier = MultinomialNB()\n",
    "classifier.fit(X_train_vec, y_train)\n",
    "\n",
    "# Predict meal_class for rows with NaN values\n",
    "nan_rows = recipes[recipes['meal_class'].isna()]\n",
    "X_nan = nan_rows['text_features'].fillna('')  # Replace NaN with empty strings\n",
    "X_nan_vec = vectorizer.transform(X_nan)\n",
    "predicted_labels = classifier.predict(X_nan_vec)\n",
    "\n",
    "# Inverse transform the labels to get the predicted meal_class values\n",
    "predicted_classes = label_encoder.inverse_transform(predicted_labels)\n",
    "\n",
    "# Assign the predicted values to the DataFrame\n",
    "recipes.loc[recipes['meal_class'].isna(), 'meal_class'] = predicted_classes\n",
    "\n",
    "recipes = recipes.drop('text_features', axis = 1)\n",
    "\n",
    "# Calculate accuracy on the test set (for illustration purposes)\n",
    "y_pred = classifier.predict(X_test_vec)\n",
    "accuracy = accuracy_score(y_test, y_pred)\n",
    "print(f\"Accuracy on the test set: {accuracy:.2f}\")"
   ]
  },
  {
   "cell_type": "code",
   "execution_count": null,
   "id": "e700760c-b07d-4ffd-bd64-785887e7c0c9",
   "metadata": {},
   "outputs": [],
   "source": [
    "class_count = recipes['meal_class'].value_counts()\n",
    "class_count"
   ]
  },
  {
   "cell_type": "code",
   "execution_count": null,
   "id": "2e446488-64c0-48ee-8dc6-af43a0135b5c",
   "metadata": {},
   "outputs": [],
   "source": [
    "nan_count = recipes['meal_class'].isna().sum()\n",
    "nan_count"
   ]
  },
  {
   "cell_type": "code",
   "execution_count": null,
   "id": "e596ce7e-d275-42f0-9076-fc7891004851",
   "metadata": {},
   "outputs": [],
   "source": [
    "recipes.head()"
   ]
  },
  {
   "cell_type": "code",
   "execution_count": null,
   "id": "be4e2839-b748-4912-8939-9df7217fd949",
   "metadata": {},
   "outputs": [],
   "source": [
    "# Replace empty strings with NaN values\n",
    "recipes['cost'] = recipes['cost'].replace(' ', np.nan)\n",
    "recipes['cost'] = recipes['cost'].replace('-', np.nan)"
   ]
  },
  {
   "cell_type": "code",
   "execution_count": null,
   "id": "0d36b2e3-d318-499b-ad85-be6fd1e3b5fe",
   "metadata": {},
   "outputs": [],
   "source": [
    "nan_count_cost = recipes['cost'].isna().sum()\n",
    "nan_count_cost"
   ]
  },
  {
   "cell_type": "code",
   "execution_count": null,
   "id": "57136763-06f2-4938-baf7-8ae59c48d455",
   "metadata": {},
   "outputs": [],
   "source": [
    "cost_count = recipes['cost'].value_counts()\n",
    "cost_count"
   ]
  },
  {
   "cell_type": "code",
   "execution_count": null,
   "id": "0fad2fde-1c31-4306-9fc1-e470bb1f0984",
   "metadata": {},
   "outputs": [],
   "source": [
    "nan_count_cost = recipes['difficulty'].isna().sum()\n",
    "nan_count_cost"
   ]
  },
  {
   "cell_type": "code",
   "execution_count": null,
   "id": "563387fd-e199-45bf-bb7f-d07f637c7724",
   "metadata": {},
   "outputs": [],
   "source": [
    "difficulty_count = recipes['difficulty'].value_counts()\n",
    "difficulty_count"
   ]
  },
  {
   "cell_type": "code",
   "execution_count": null,
   "id": "b3dba75c-709a-411c-b77d-684f7636d23b",
   "metadata": {},
   "outputs": [],
   "source": [
    "recipes.info()"
   ]
  },
  {
   "cell_type": "markdown",
   "id": "77c01b41-3130-4ae1-b9cb-f187a81c464b",
   "metadata": {},
   "source": [
    "# Saving into CSV File"
   ]
  },
  {
   "cell_type": "code",
   "execution_count": null,
   "id": "77c4d67d-4b04-4564-a589-57479e4f67de",
   "metadata": {},
   "outputs": [],
   "source": [
    "recipes.to_csv('../data/raw/recipes_one_clean.csv', index = False)"
   ]
  },
  {
   "cell_type": "code",
   "execution_count": null,
   "id": "326ac358-de5e-4084-bf78-a9d41fae6d47",
   "metadata": {},
   "outputs": [],
   "source": [
    "recipes['meal_class'].unique()"
   ]
  },
  {
   "cell_type": "code",
   "execution_count": null,
   "id": "26838aa8-97b7-4e0d-a4bc-39d774f3e711",
   "metadata": {},
   "outputs": [],
   "source": []
  }
 ],
 "metadata": {
  "kernelspec": {
   "display_name": "finalproj",
   "language": "python",
   "name": "finalproj"
  },
  "language_info": {
   "codemirror_mode": {
    "name": "ipython",
    "version": 3
   },
   "file_extension": ".py",
   "mimetype": "text/x-python",
   "name": "python",
   "nbconvert_exporter": "python",
   "pygments_lexer": "ipython3",
   "version": "3.11.5"
  }
 },
 "nbformat": 4,
 "nbformat_minor": 5
}
