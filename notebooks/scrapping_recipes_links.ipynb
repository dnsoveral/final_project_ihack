{
 "cells": [
  {
   "cell_type": "markdown",
   "id": "27814ec5-ad36-41d5-9e5a-f6a85820681e",
   "metadata": {
    "tags": []
   },
   "source": [
    "![logo_ironhack_blue 7](https://user-images.githubusercontent.com/23629340/40541063-a07a0a8a-601a-11e8-91b5-2f13e4e6b441.png)"
   ]
  },
  {
   "cell_type": "markdown",
   "id": "72619eee-a4d9-4f33-9be9-83567c1135a2",
   "metadata": {},
   "source": [
    "# Importing Libraries"
   ]
  },
  {
   "cell_type": "code",
   "execution_count": null,
   "id": "db5e8df6-b3b2-4a49-b43f-b6b007c0cd3b",
   "metadata": {},
   "outputs": [],
   "source": [
    "from bs4 import BeautifulSoup\n",
    "import requests\n",
    "import pandas as pd\n",
    "import re\n",
    "import random\n",
    "import time\n",
    "from IPython.display import clear_output"
   ]
  },
  {
   "cell_type": "markdown",
   "id": "e1248459-1d4c-4ff7-84e7-f935c0aee57c",
   "metadata": {},
   "source": [
    "# Functions"
   ]
  },
  {
   "cell_type": "code",
   "execution_count": null,
   "id": "bf6745c7-e21f-4646-bb09-8565e224dfef",
   "metadata": {},
   "outputs": [],
   "source": [
    "def scrape_links_names(base_url, total_expected_products, total_expected_pages):\n",
    "    \"\"\"\n",
    "    Scrape links and names from a website.\n",
    "\n",
    "    Args:\n",
    "        base_url (str): The base URL of the website.\n",
    "        total_expected_products (int): The total number of products you expect to scrape.\n",
    "\n",
    "    Returns:\n",
    "        pd.DataFrame: A DataFrame containing the scraped links and names.\n",
    "    \"\"\"\n",
    "    items = []\n",
    "    current_page_number = 1  # Start with page 1\n",
    "    start_time = time.time()\n",
    "    total_downloaded = 0\n",
    "\n",
    "    while current_page_number <= total_expected_pages:\n",
    "        # Construct the current page URL\n",
    "        current_page = f\"{base_url}{current_page_number}/\"\n",
    "\n",
    "        # Scrape data from the current page\n",
    "        response = requests.get(current_page)\n",
    "        soup = BeautifulSoup(response.content, \"html.parser\")\n",
    "\n",
    "        # Find all recipe elements on the page\n",
    "        recipe_elements = soup.select(\".td_module_3\")\n",
    "\n",
    "        # Loop through each recipe element and extract information\n",
    "        for recipe_element in recipe_elements:\n",
    "            # Extract the link and name of the recipe\n",
    "            recipe_link = recipe_element.select_one(\".entry-title a\")[\"href\"]\n",
    "            recipe_name = recipe_element.select_one(\".entry-title a\").get_text()\n",
    "\n",
    "            items.append({\n",
    "                \"title\": recipe_name,\n",
    "                \"link\": recipe_link\n",
    "            })\n",
    "\n",
    "            total_downloaded += 1\n",
    "\n",
    "        # Calculate and display progress\n",
    "        clear_output(wait=True)\n",
    "        percentage_downloaded = (total_downloaded / total_expected_products) * 100\n",
    "        current_time = time.time() - start_time\n",
    "        print(f'Recipes Downloaded: {total_downloaded}/{total_expected_products} ({percentage_downloaded:.2f}%)')\n",
    "        print(f'Running Time: {int(current_time // 60):02d}:{int(current_time % 60):02d}')\n",
    "\n",
    "        # Sleep to avoid overloading the server\n",
    "        \n",
    "        sleep_time = 5\n",
    "        random_sleep_timer = random.randint(int(sleep_time * 0.5), int(sleep_time * 1.5))\n",
    "        print('Sleeping for', random_sleep_timer, 's...')\n",
    "        time.sleep(random_sleep_timer)\n",
    "\n",
    "        # Increment the page number\n",
    "        current_page_number += 1\n",
    "\n",
    "    # Printing Download Summary\n",
    "    clear_output(wait=True)\n",
    "    end_time = time.time()\n",
    "    total_time = end_time - start_time\n",
    "    print(\"Product Data download complete. Total:\", len(items))\n",
    "    print(f'Total Running Time: {int(total_time // 60):02d}:{int(total_time % 60):02d}')\n",
    "\n",
    "    # Create a DataFrame from the list of dictionaries\n",
    "    df = pd.DataFrame(items)\n",
    "    return df\n"
   ]
  },
  {
   "cell_type": "markdown",
   "id": "514714ff-fefd-42c9-82cc-265ccc311bed",
   "metadata": {},
   "source": [
    "# Scraping The Recipes"
   ]
  },
  {
   "cell_type": "code",
   "execution_count": null,
   "id": "9be5aafc-00eb-49ac-bdc0-8531d1c0b4ff",
   "metadata": {},
   "outputs": [],
   "source": [
    "base_url = \"https://www.teleculinaria.pt/receitas/page/\"\n",
    "total_expected_products = 10397 #30 items by page, last page has 17 items\n",
    "total_expected_pages = 347"
   ]
  },
  {
   "cell_type": "code",
   "execution_count": null,
   "id": "eedca13f-24aa-4754-8310-bd9936bb6e55",
   "metadata": {},
   "outputs": [],
   "source": [
    "teleculinaria_recipes = scrape_links_names(base_url, total_expected_products, total_expected_pages)"
   ]
  },
  {
   "cell_type": "markdown",
   "id": "c92899d6-9217-45a3-81f3-2c75ec298832",
   "metadata": {},
   "source": [
    "# Printing Dataframe"
   ]
  },
  {
   "cell_type": "code",
   "execution_count": null,
   "id": "5413fe73-ea9f-4586-bc46-94c102438727",
   "metadata": {},
   "outputs": [],
   "source": [
    "teleculinaria_recipes"
   ]
  },
  {
   "cell_type": "code",
   "execution_count": null,
   "id": "83cd14e8-6e9a-46a0-935a-cbbbf69bc849",
   "metadata": {},
   "outputs": [],
   "source": [
    "# Dropping links with videos\n",
    "def drop_video_urls(df):\n",
    "    # Drop rows where 'video' is present in the URL\n",
    "    df = df[~df['link'].str.contains('video')]\n",
    "    return df"
   ]
  },
  {
   "cell_type": "code",
   "execution_count": null,
   "id": "b8d281d5-8900-49e1-be2e-be23268d95d1",
   "metadata": {},
   "outputs": [],
   "source": [
    "teleculinaria_recipes = drop_video_urls(teleculinaria_recipes)"
   ]
  },
  {
   "cell_type": "code",
   "execution_count": null,
   "id": "5d3ffcc3-48da-4359-bb49-d7124af0db03",
   "metadata": {},
   "outputs": [],
   "source": [
    "teleculinaria_recipes"
   ]
  },
  {
   "cell_type": "code",
   "execution_count": null,
   "id": "757f00b5-0345-494d-b471-738a024ba1f0",
   "metadata": {},
   "outputs": [],
   "source": [
    "teleculinaria_recipes.to_csv('../data/raw/recipe_links.csv', index=False)"
   ]
  }
 ],
 "metadata": {
  "kernelspec": {
   "display_name": "finalproj",
   "language": "python",
   "name": "finalproj"
  },
  "language_info": {
   "codemirror_mode": {
    "name": "ipython",
    "version": 3
   },
   "file_extension": ".py",
   "mimetype": "text/x-python",
   "name": "python",
   "nbconvert_exporter": "python",
   "pygments_lexer": "ipython3",
   "version": "3.11.5"
  }
 },
 "nbformat": 4,
 "nbformat_minor": 5
}
