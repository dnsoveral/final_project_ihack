{
 "cells": [
  {
   "cell_type": "markdown",
   "id": "50bdb104-34f1-4814-b9d2-21d0e61c7e13",
   "metadata": {
    "tags": []
   },
   "source": [
    "![logo_ironhack_blue 7](https://user-images.githubusercontent.com/23629340/40541063-a07a0a8a-601a-11e8-91b5-2f13e4e6b441.png)"
   ]
  },
  {
   "cell_type": "markdown",
   "id": "2ac78738-dfcc-4606-a2bc-4e3f5482ba87",
   "metadata": {},
   "source": [
    "# Importing Libraries"
   ]
  },
  {
   "cell_type": "code",
   "execution_count": null,
   "id": "1d7ef41d-947b-4b9f-a0ea-8b81daf5641b",
   "metadata": {},
   "outputs": [],
   "source": [
    "import pandas as pd\n",
    "import re"
   ]
  },
  {
   "cell_type": "markdown",
   "id": "e8c3e9d5-d09d-4e6a-ab40-070d2e789290",
   "metadata": {},
   "source": [
    "# Loading File"
   ]
  },
  {
   "cell_type": "code",
   "execution_count": null,
   "id": "cf75f124-0661-4925-9ec7-89596bc32b16",
   "metadata": {},
   "outputs": [],
   "source": [
    "recipes = pd.read_csv('../data/raw/recipes_one_clean.csv')"
   ]
  },
  {
   "cell_type": "code",
   "execution_count": null,
   "id": "9cfa9a4e-2227-4b0b-ad12-8aff154eb8da",
   "metadata": {},
   "outputs": [],
   "source": [
    "recipes"
   ]
  },
  {
   "cell_type": "code",
   "execution_count": null,
   "id": "bb1c5aed-5a7e-41d8-9c7d-c1fb8f74d903",
   "metadata": {},
   "outputs": [],
   "source": [
    "recipes['ingredients_combined']"
   ]
  },
  {
   "cell_type": "code",
   "execution_count": null,
   "id": "1ac6d506-4e7e-492e-b00d-b3d43a82441c",
   "metadata": {},
   "outputs": [],
   "source": [
    "limit = 10 \n",
    "\n",
    "for index in range(min(limit, len(recipes))):\n",
    "    label = recipes.at[index, 'ingredients_combined']\n",
    "    print(f\"Row {index} Label:\")\n",
    "    print(label)\n",
    "    print()"
   ]
  },
  {
   "cell_type": "code",
   "execution_count": null,
   "id": "8ad910d7-3cb2-4e34-8e35-47da0f734075",
   "metadata": {},
   "outputs": [],
   "source": [
    "limit = 10\n",
    "\n",
    "for index in range(min(limit, len(recipes))):\n",
    "    label = recipes.at[index, 'ingredients_combined']\n",
    "    ingredients_list = label.split(',')  \n",
    "    print(f\"Row {index} Ingredients:\")\n",
    "    \n",
    "    for ingredient in ingredients_list:\n",
    "        print(ingredient.strip())  \n",
    "    \n",
    "    print()"
   ]
  },
  {
   "cell_type": "markdown",
   "id": "1bb53d6a-725e-4dd6-b466-5f1af4cb794c",
   "metadata": {},
   "source": [
    "# Clean Ingredients Combined"
   ]
  },
  {
   "cell_type": "code",
   "execution_count": null,
   "id": "c37c80c1-55f9-4e36-99af-b70c7a8e9ff8",
   "metadata": {},
   "outputs": [],
   "source": [
    "def extract_quantities_and_create_column(recipes, column_name, new_column_name):\n",
    "    quantities = []\n",
    "\n",
    "    for index, row in recipes.iterrows():\n",
    "        ingredients_list = row[column_name]\n",
    "        extracted_quantities = []\n",
    "        for sublist in ingredients_list:\n",
    "            for item in sublist:\n",
    "                if isinstance(item, str) and item.strip().replace(\"/\", \"\").replace(\".\", \"\").isdigit():\n",
    "                    extracted_quantities.append(item.strip())\n",
    "        quantities.append(extracted_quantities)\n",
    "\n",
    "    recipes[new_column_name] = quantities"
   ]
  },
  {
   "cell_type": "code",
   "execution_count": null,
   "id": "ad7fbd6a-7c35-4cb0-8dea-a09cd71e3d2b",
   "metadata": {},
   "outputs": [],
   "source": [
    "\n",
    "extract_quantities_and_create_column(recipes, 'ingredients_combined', 'ing_quantities')"
   ]
  },
  {
   "cell_type": "code",
   "execution_count": null,
   "id": "aa21ed00-d9a9-4598-9bd2-29c78960f15a",
   "metadata": {},
   "outputs": [],
   "source": [
    "recipes['ing_quantities']"
   ]
  },
  {
   "cell_type": "code",
   "execution_count": null,
   "id": "26804a23-70cb-4147-9e95-706ac0e306ae",
   "metadata": {},
   "outputs": [],
   "source": []
  }
 ],
 "metadata": {
  "kernelspec": {
   "display_name": "finalproj",
   "language": "python",
   "name": "finalproj"
  },
  "language_info": {
   "codemirror_mode": {
    "name": "ipython",
    "version": 3
   },
   "file_extension": ".py",
   "mimetype": "text/x-python",
   "name": "python",
   "nbconvert_exporter": "python",
   "pygments_lexer": "ipython3",
   "version": "3.11.5"
  }
 },
 "nbformat": 4,
 "nbformat_minor": 5
}
